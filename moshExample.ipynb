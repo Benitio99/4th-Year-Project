{
 "cells": [
  {
   "cell_type": "code",
   "execution_count": 7,
   "source": [
    "import pandas as pd\r\n",
    "from sklearn.tree import DecisionTreeClassifier\r\n",
    "from sklearn.model_selection import train_test_split\r\n",
    "from sklearn.metrics import accuracy_score\r\n",
    "# from sklearn.externals \r\n",
    "import joblib\r\n",
    "\r\n",
    "music_data = pd.read_csv('music.csv')\r\n",
    "# music_data\r\n",
    "X = music_data.drop(columns=['genre'])\r\n",
    "y = music_data['genre']\r\n",
    "X_train, X_test, y_train, y_test = train_test_split(X, y, test_size=0.2)\r\n",
    "\r\n",
    "# model = DecisionTreeClassifier()\r\n",
    "# model.fit(X_train, y_train)\r\n",
    "\r\n",
    "# joblib.dump(model, 'music-recommender.joblib')\r\n",
    "\r\n",
    "model = joblib.load('music-recommender.joblib')\r\n",
    "predictions = model.predict(X_test)\r\n",
    "score = accuracy_score(y_test, predictions)\r\n",
    "print(X_test)\r\n",
    "print(y_test)\r\n",
    "print(predictions)\r\n",
    "score"
   ],
   "outputs": [
    {
     "output_type": "stream",
     "name": "stdout",
     "text": [
      "    age  gender\n",
      "11   25       0\n",
      "0    20       1\n",
      "9    20       0\n",
      "6    31       1\n",
      "11        Dance\n",
      "0        HipHop\n",
      "9         Dance\n",
      "6     Classical\n",
      "Name: genre, dtype: object\n",
      "['Dance' 'HipHop' 'Dance' 'Classical']\n"
     ]
    },
    {
     "output_type": "execute_result",
     "data": {
      "text/plain": [
       "1.0"
      ]
     },
     "metadata": {},
     "execution_count": 7
    }
   ],
   "metadata": {}
  },
  {
   "cell_type": "code",
   "execution_count": 1,
   "source": [
    "import pandas as pd\r\n",
    "from sklearn.tree import DecisionTreeClassifier\r\n",
    "from sklearn import tree\r\n",
    "\r\n",
    "\r\n",
    "music_data = pd.read_csv('music.csv')\r\n",
    "X = music_data.drop(columns=['genre'])\r\n",
    "y = music_data['genre']\r\n",
    "\r\n",
    "model = DecisionTreeClassifier()\r\n",
    "model.fit(X, y)\r\n",
    "\r\n",
    "tree.export_graphviz(model, out_file='music-renderer.dot', feature_names=['age', 'gender'], class_names=sorted(y.unique()), label='all', rounded=True, filled=True)"
   ],
   "outputs": [],
   "metadata": {}
  },
  {
   "cell_type": "code",
   "execution_count": null,
   "source": [],
   "outputs": [],
   "metadata": {}
  }
 ],
 "metadata": {
  "orig_nbformat": 4,
  "language_info": {
   "name": "python",
   "version": "3.9.7",
   "mimetype": "text/x-python",
   "codemirror_mode": {
    "name": "ipython",
    "version": 3
   },
   "pygments_lexer": "ipython3",
   "nbconvert_exporter": "python",
   "file_extension": ".py"
  },
  "kernelspec": {
   "name": "python3",
   "display_name": "Python 3.9.7 64-bit"
  },
  "interpreter": {
   "hash": "c212cc40d415c1d7da085f536af227f5ee71562da9bfacb48a0abe1f53c38553"
  }
 },
 "nbformat": 4,
 "nbformat_minor": 2
}